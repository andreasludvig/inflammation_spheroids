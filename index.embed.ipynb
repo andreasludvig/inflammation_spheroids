{
 "cells": [
  {
   "cell_type": "markdown",
   "metadata": {},
   "source": [
    "# Inflammation and spheroids\n",
    "\n",
    "Andreas Ludvig Ohm Svendsen [![](data:image/png;base64,iVBORw0KGgoAAAANSUhEUgAAABAAAAAQCAYAAAAf8/9hAAAAGXRFWHRTb2Z0d2FyZQBBZG9iZSBJbWFnZVJlYWR5ccllPAAAA2ZpVFh0WE1MOmNvbS5hZG9iZS54bXAAAAAAADw/eHBhY2tldCBiZWdpbj0i77u/IiBpZD0iVzVNME1wQ2VoaUh6cmVTek5UY3prYzlkIj8+IDx4OnhtcG1ldGEgeG1sbnM6eD0iYWRvYmU6bnM6bWV0YS8iIHg6eG1wdGs9IkFkb2JlIFhNUCBDb3JlIDUuMC1jMDYwIDYxLjEzNDc3NywgMjAxMC8wMi8xMi0xNzozMjowMCAgICAgICAgIj4gPHJkZjpSREYgeG1sbnM6cmRmPSJodHRwOi8vd3d3LnczLm9yZy8xOTk5LzAyLzIyLXJkZi1zeW50YXgtbnMjIj4gPHJkZjpEZXNjcmlwdGlvbiByZGY6YWJvdXQ9IiIgeG1sbnM6eG1wTU09Imh0dHA6Ly9ucy5hZG9iZS5jb20veGFwLzEuMC9tbS8iIHhtbG5zOnN0UmVmPSJodHRwOi8vbnMuYWRvYmUuY29tL3hhcC8xLjAvc1R5cGUvUmVzb3VyY2VSZWYjIiB4bWxuczp4bXA9Imh0dHA6Ly9ucy5hZG9iZS5jb20veGFwLzEuMC8iIHhtcE1NOk9yaWdpbmFsRG9jdW1lbnRJRD0ieG1wLmRpZDo1N0NEMjA4MDI1MjA2ODExOTk0QzkzNTEzRjZEQTg1NyIgeG1wTU06RG9jdW1lbnRJRD0ieG1wLmRpZDozM0NDOEJGNEZGNTcxMUUxODdBOEVCODg2RjdCQ0QwOSIgeG1wTU06SW5zdGFuY2VJRD0ieG1wLmlpZDozM0NDOEJGM0ZGNTcxMUUxODdBOEVCODg2RjdCQ0QwOSIgeG1wOkNyZWF0b3JUb29sPSJBZG9iZSBQaG90b3Nob3AgQ1M1IE1hY2ludG9zaCI+IDx4bXBNTTpEZXJpdmVkRnJvbSBzdFJlZjppbnN0YW5jZUlEPSJ4bXAuaWlkOkZDN0YxMTc0MDcyMDY4MTE5NUZFRDc5MUM2MUUwNEREIiBzdFJlZjpkb2N1bWVudElEPSJ4bXAuZGlkOjU3Q0QyMDgwMjUyMDY4MTE5OTRDOTM1MTNGNkRBODU3Ii8+IDwvcmRmOkRlc2NyaXB0aW9uPiA8L3JkZjpSREY+IDwveDp4bXBtZXRhPiA8P3hwYWNrZXQgZW5kPSJyIj8+84NovQAAAR1JREFUeNpiZEADy85ZJgCpeCB2QJM6AMQLo4yOL0AWZETSqACk1gOxAQN+cAGIA4EGPQBxmJA0nwdpjjQ8xqArmczw5tMHXAaALDgP1QMxAGqzAAPxQACqh4ER6uf5MBlkm0X4EGayMfMw/Pr7Bd2gRBZogMFBrv01hisv5jLsv9nLAPIOMnjy8RDDyYctyAbFM2EJbRQw+aAWw/LzVgx7b+cwCHKqMhjJFCBLOzAR6+lXX84xnHjYyqAo5IUizkRCwIENQQckGSDGY4TVgAPEaraQr2a4/24bSuoExcJCfAEJihXkWDj3ZAKy9EJGaEo8T0QSxkjSwORsCAuDQCD+QILmD1A9kECEZgxDaEZhICIzGcIyEyOl2RkgwAAhkmC+eAm0TAAAAABJRU5ErkJggg==)](https://orcid.org/0000-0001-8050-6447) (SDU)  \n",
    "Erkka Järvinen (SDU?)  \n",
    "Tore B. Stage (SDU)  \n",
    "March 15, 2024\n",
    "\n",
    "This is an abstract …"
   ],
   "id": "e58c303d-b7d6-4e7d-81b3-d42a86017104"
  },
  {
   "cell_type": "code",
   "execution_count": null,
   "metadata": {},
   "outputs": [
    {
     "output_type": "stream",
     "name": "stderr",
     "text": [
      "\u001b[1;36mNow using 'groundhog_3.1.2'.\u001b[0m"
     ]
    },
    {
     "output_type": "stream",
     "name": "stderr",
     "text": [
      "\u001b[36mSuccessfully attached 'data.table_1.14.10'\u001b[0m"
     ]
    }
   ],
   "source": [
    "# Always load same package versions\n",
    "groundhog.day <- \"2024-01-01\"\n",
    "groundhog::meta.groundhog(groundhog.day) "
   ],
   "id": "f60423d3-dbd5-4fba-9e44-1f8526dc91ef"
  },
  {
   "cell_type": "markdown",
   "metadata": {},
   "source": [
    "## Introduction\n",
    "\n",
    "Inflammation is a complex biological response that is pivotal in various pathological conditions. These range from systemic inflammatory diseases, such as rheumatoid arthritis and sepsis, to lower-grade chronic inflammatory states such as type 2 diabetes mellitus. Given the prevalence of systemic inflammation, understanding its interaction with drug metabolism is of substantial clinical relevance.\n",
    "\n",
    "Drug-metabolizing enzymes and transporters (DMETs), predominantly found in hepatocytes within the liver, are central to the biotransformation of a wide variety of compounds. Inflammation has been shown to modulate the activity of these DMETs, a phenomenon that could potentially affect the pharmacokinetics of numerous medications. For individuals with altered inflammatory status—whether due to a chronic condition like diabetes or an acute event like sepsis—this modulation can have significant implications. It may necessitate adjustments in drug dosages to avoid adverse effects or therapeutic failure.\n",
    "\n",
    "Previous research has provided valuable insights into the effects of inflammation on DMETs, but a clear correlation between in vitro studies and clinical observations remains elusive. For instance Dunvald et al. \\[@dunvald\\] conducted a comprehensive review of the clinical and in vitro evidence on inflammation-mediated modulation of DMETs and the impact on drug metabolism in humans. They found that in vitro studies in primary human hepatocytes revealed strong evidence of downregulation of key cytochrome P450 (CYP) enzymes by inflammatory cytokines such as IL-6 and IL-1β. However, these studies often employed supraphysiological cytokine doses, which may not accurately represent the inflammatory conditions observed in patients.\n",
    "\n",
    "Levels of IL-6 and IL-1β in healthy individuals are generally low, with reports in range of ~10pg/ml in adults for IL-6, and ~2.5 pg/ml IL-1β in adults \\[@kim2011; @kleiner2013; @said2021; @strand2020\\]. In contrast, cytokine levels may be considerably elevated with IL-6 levels of ~140 pg/mL, and IL-1β <u>levels of ~100 pg/mL</u>, among patients with rheumatoid arthritis or SLE \\[@umare2014\\] to more than 1 ng/mL of IL-6 for patients with acute inflammation caused by sepsis \\[@franco2019\\]. These variations in cytokine levels, which span a wide range in different pathological states, highlight the complex and dynamic nature of inflammation and underscore the need for research that considers this variability when investigating the effects of inflammation on drug-metabolizing enzymes.\n",
    "\n",
    "The median IL-6 values (IQR) in the control, sepsis, and septic shock groups were 23.6 (11.2–43.5), 89.9 (45.2–272.6), and 1378.6 (256.4–11,062.1) pg/mL\n",
    "\n",
    "<https://bmcinfectdis.biomedcentral.com/articles/10.1186/s12879-019-4618-7>\n",
    "\n",
    "Recently, 3D primary human hepatocytes (PHH) have challenged 2D PHH as a more physiologically relevant culture method of PHH. 3D culture leads to more stable cell cultures that retain their hepatic phenotype for extended periods of time \\[@bell2016\\]. Consequently, this 3D PHH have been shown to predict CYP induction and hepatotoxicity more accurately than 2D PHH \\[@bell2018; @järvinen2023\\]. Historically, 2D PHH have been utilized to study the effect of drugs and inflammation on hepatocyte/liver function. However, the inherent limitations of 2D cultures, primarily their inability to maintain the physiological phenotype and liver-specific functions of hepatocytes, have prompted a shift towards the 3D liver spheroid models. This model is increasingly recognized for their physiological relevance and stability, offering a more accurate representation of hepatic responses. The 3D liver spheroids preserve liver cell phenotypes and functions over extended periods, thereby enhancing the reliability of drug-induced liver injury predictions and disease mechanism investigations. This advancement positions 3D liver spheroids as potentially the new standard for in vitro hepatocyte studies, while still being suitable for a high throughput setting, and financially accessible as opposed to even more advanced liver models (ref for last part) \\[@ingelman-sundberg; @dunvald\\] . Another claim for the lack of correlation discussed in the review by AC et al. is that there might be methodological limitations to the widespread use of 2D models of PHHs \\[@dunvald\\].\n",
    "\n",
    "We aimed to utilize 3D primary human hepatocytes \\[@bell2016\\] to study the impact of physiologically relevant concentrations of cytokines on CYP expression and activity. This may help further our understanding of the impact of inflammation on clinical drug metabolism among patients with inflammation. This, in turn, may inform more precise and adaptive prescribing strategies for patients in various inflammatory states.\n",
    "\n",
    "## References"
   ],
   "id": "9cdd2d9f-5e62-4c5e-9baf-da420d73fc20"
  }
 ],
 "nbformat": 4,
 "nbformat_minor": 5,
 "metadata": {}
}
