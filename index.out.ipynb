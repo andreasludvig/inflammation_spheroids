{
 "cells": [
  {
   "cell_type": "markdown",
   "metadata": {},
   "source": [
    "# Inflammation and spheroids\n",
    "\n",
    "Andreas Ludvig Ohm Svendsen [![](data:image/png;base64,iVBORw0KGgoAAAANSUhEUgAAABAAAAAQCAYAAAAf8/9hAAAAGXRFWHRTb2Z0d2FyZQBBZG9iZSBJbWFnZVJlYWR5ccllPAAAA2ZpVFh0WE1MOmNvbS5hZG9iZS54bXAAAAAAADw/eHBhY2tldCBiZWdpbj0i77u/IiBpZD0iVzVNME1wQ2VoaUh6cmVTek5UY3prYzlkIj8+IDx4OnhtcG1ldGEgeG1sbnM6eD0iYWRvYmU6bnM6bWV0YS8iIHg6eG1wdGs9IkFkb2JlIFhNUCBDb3JlIDUuMC1jMDYwIDYxLjEzNDc3NywgMjAxMC8wMi8xMi0xNzozMjowMCAgICAgICAgIj4gPHJkZjpSREYgeG1sbnM6cmRmPSJodHRwOi8vd3d3LnczLm9yZy8xOTk5LzAyLzIyLXJkZi1zeW50YXgtbnMjIj4gPHJkZjpEZXNjcmlwdGlvbiByZGY6YWJvdXQ9IiIgeG1sbnM6eG1wTU09Imh0dHA6Ly9ucy5hZG9iZS5jb20veGFwLzEuMC9tbS8iIHhtbG5zOnN0UmVmPSJodHRwOi8vbnMuYWRvYmUuY29tL3hhcC8xLjAvc1R5cGUvUmVzb3VyY2VSZWYjIiB4bWxuczp4bXA9Imh0dHA6Ly9ucy5hZG9iZS5jb20veGFwLzEuMC8iIHhtcE1NOk9yaWdpbmFsRG9jdW1lbnRJRD0ieG1wLmRpZDo1N0NEMjA4MDI1MjA2ODExOTk0QzkzNTEzRjZEQTg1NyIgeG1wTU06RG9jdW1lbnRJRD0ieG1wLmRpZDozM0NDOEJGNEZGNTcxMUUxODdBOEVCODg2RjdCQ0QwOSIgeG1wTU06SW5zdGFuY2VJRD0ieG1wLmlpZDozM0NDOEJGM0ZGNTcxMUUxODdBOEVCODg2RjdCQ0QwOSIgeG1wOkNyZWF0b3JUb29sPSJBZG9iZSBQaG90b3Nob3AgQ1M1IE1hY2ludG9zaCI+IDx4bXBNTTpEZXJpdmVkRnJvbSBzdFJlZjppbnN0YW5jZUlEPSJ4bXAuaWlkOkZDN0YxMTc0MDcyMDY4MTE5NUZFRDc5MUM2MUUwNEREIiBzdFJlZjpkb2N1bWVudElEPSJ4bXAuZGlkOjU3Q0QyMDgwMjUyMDY4MTE5OTRDOTM1MTNGNkRBODU3Ii8+IDwvcmRmOkRlc2NyaXB0aW9uPiA8L3JkZjpSREY+IDwveDp4bXBtZXRhPiA8P3hwYWNrZXQgZW5kPSJyIj8+84NovQAAAR1JREFUeNpiZEADy85ZJgCpeCB2QJM6AMQLo4yOL0AWZETSqACk1gOxAQN+cAGIA4EGPQBxmJA0nwdpjjQ8xqArmczw5tMHXAaALDgP1QMxAGqzAAPxQACqh4ER6uf5MBlkm0X4EGayMfMw/Pr7Bd2gRBZogMFBrv01hisv5jLsv9nLAPIOMnjy8RDDyYctyAbFM2EJbRQw+aAWw/LzVgx7b+cwCHKqMhjJFCBLOzAR6+lXX84xnHjYyqAo5IUizkRCwIENQQckGSDGY4TVgAPEaraQr2a4/24bSuoExcJCfAEJihXkWDj3ZAKy9EJGaEo8T0QSxkjSwORsCAuDQCD+QILmD1A9kECEZgxDaEZhICIzGcIyEyOl2RkgwAAhkmC+eAm0TAAAAABJRU5ErkJggg==)](https://orcid.org/0000-0001-8050-6447) (SDU)  \n",
    "Erkka Järvinen (SDU?)  \n",
    "Tore B. Stage (SDU)  \n",
    "March 15, 2024\n",
    "\n",
    "This is an abstract …"
   ],
   "id": "353e6c3d-e8f0-4962-8b77-4ad0e0307742"
  },
  {
   "cell_type": "code",
   "execution_count": null,
   "metadata": {},
   "outputs": [
    {
     "output_type": "stream",
     "name": "stderr",
     "text": [
      "\u001b[1;36mNow using 'groundhog_3.1.2'.\u001b[0m"
     ]
    },
    {
     "output_type": "stream",
     "name": "stderr",
     "text": [
      "\u001b[36mSuccessfully attached 'data.table_1.14.10'\u001b[0m"
     ]
    }
   ],
   "source": [
    "# Always load same package versions\n",
    "groundhog.day <- \"2024-01-01\"\n",
    "groundhog::meta.groundhog(groundhog.day) "
   ],
   "id": "b143278a-690c-4fd9-9676-770a972a9678"
  },
  {
   "cell_type": "markdown",
   "metadata": {},
   "source": [
    "## Introduction\n",
    "\n",
    "Inflammation is a complex biological response that is pivotal in various pathological conditions. These range from systemic inflammatory diseases, such as rheumatoid arthritis and sepsis, to lower-grade chronic inflammatory states such as type 2 diabetes mellitus. Given the prevalence of systemic inflammation, understanding its interaction with drug metabolism is of substantial clinical relevance.\n",
    "\n",
    "Drug-metabolizing enzymes and transporters (DMETs), predominantly found in hepatocytes within the liver, are central to the biotransformation of a wide variety of compounds. Inflammation has been shown to modulate the activity of these DMETs, a phenomenon that could potentially affect the pharmacokinetics of numerous medications. For individuals with altered inflammatory status—whether due to a chronic condition like diabetes or an acute event like sepsis—this modulation can have significant implications. It may necessitate adjustments in drug dosages to avoid adverse effects or therapeutic failure.\n",
    "\n",
    "Previous research has provided valuable insights into the effects of inflammation on DMETs, but a clear correlation between in vitro studies and clinical observations remains elusive. For instance Dunvald et al. ([1](#ref-dunvald)) conducted a comprehensive review of the clinical and in vitro evidence on inflammation-mediated modulation of DMETs and the impact on drug metabolism in humans. They found that in vitro studies in primary human hepatocytes revealed strong evidence of downregulation of key cytochrome P450 (CYP) enzymes by inflammatory cytokines such as IL-6 and IL-1β. However, these studies often employed supraphysiological cytokine doses, which may not accurately represent the inflammatory conditions observed in patients.\n",
    "\n",
    "Levels of IL-6 and IL-1β in healthy individuals are generally low, with reports in range of ~10pg/ml in adults for IL-6, and ~2.5 pg/ml IL-1β in adults ([2](#ref-kim2011)–[5](#ref-strand2020)). In contrast, cytokine levels may be considerably elevated with IL-6 levels of ~140 pg/mL, and IL-1β <u>levels of ~100 pg/mL</u>, among patients with rheumatoid arthritis or SLE ([6](#ref-umare2014)) to more than 1 ng/mL of IL-6 for patients with acute inflammation caused by sepsis ([7](#ref-franco2019)). These variations in cytokine levels, which span a wide range in different pathological states, highlight the complex and dynamic nature of inflammation and underscore the need for research that considers this variability when investigating the effects of inflammation on drug-metabolizing enzymes.\n",
    "\n",
    "The median IL-6 values (IQR) in the control, sepsis, and septic shock groups were 23.6 (11.2–43.5), 89.9 (45.2–272.6), and 1378.6 (256.4–11,062.1) pg/mL\n",
    "\n",
    "<https://bmcinfectdis.biomedcentral.com/articles/10.1186/s12879-019-4618-7>\n",
    "\n",
    "Recently, 3D primary human hepatocytes (PHH) have challenged 2D PHH as a more physiologically relevant culture method of PHH. 3D culture leads to more stable cell cultures that retain their hepatic phenotype for extended periods of time ([8](#ref-bell2016)). Consequently, this 3D PHH have been shown to predict CYP induction and hepatotoxicity more accurately than 2D PHH ([9](#ref-bell2018),[10](#ref-järvinen2023)). Historically, 2D PHH have been utilized to study the effect of drugs and inflammation on hepatocyte/liver function. However, the inherent limitations of 2D cultures, primarily their inability to maintain the physiological phenotype and liver-specific functions of hepatocytes, have prompted a shift towards the 3D liver spheroid models. This model is increasingly recognized for their physiological relevance and stability, offering a more accurate representation of hepatic responses. The 3D liver spheroids preserve liver cell phenotypes and functions over extended periods, thereby enhancing the reliability of drug-induced liver injury predictions and disease mechanism investigations. This advancement positions 3D liver spheroids as potentially the new standard for in vitro hepatocyte studies, while still being suitable for a high throughput setting, and financially accessible as opposed to even more advanced liver models (ref for last part) ([1](#ref-dunvald),[11](#ref-ingelman-sundberg)) . Another claim for the lack of correlation discussed in the review by AC et al. is that there might be methodological limitations to the widespread use of 2D models of PHHs ([1](#ref-dunvald)).\n",
    "\n",
    "We aimed to utilize 3D primary human hepatocytes ([8](#ref-bell2016)) to study the impact of physiologically relevant concentrations of cytokines on CYP expression and activity. This may help further our understanding of the impact of inflammation on clinical drug metabolism among patients with inflammation. This, in turn, may inform more precise and adaptive prescribing strategies for patients in various inflammatory states.\n",
    "\n",
    "## References\n",
    "\n",
    "<span class=\"csl-left-margin\">1. </span><span class=\"csl-right-inline\">Dunvald ACD, Järvinen E, Mortensen C, Stage TB. Clinical and Molecular Perspectives on Inflammation-Mediated Regulation of Drug Metabolism and Transport. Clinical Pharmacology & Therapeutics \\[Internet\\]. n/a(n/a). Available from: <https://onlinelibrary.wiley.com/doi/abs/10.1002/cpt.2432></span>\n",
    "\n",
    "<span class=\"csl-left-margin\">2. </span><span class=\"csl-right-inline\">Kim HO, Kim HS, Youn JC, Shin EC, Park S. Serum cytokine profiles in healthy young and elderly population assessed using multiplexed bead-based immunoassays. Journal of Translational Medicine \\[Internet\\]. 2011 Jul 20;9(1):113. Available from: <https://doi.org/10.1186/1479-5876-9-113></span>\n",
    "\n",
    "<span class=\"csl-left-margin\">3. </span><span class=\"csl-right-inline\">Kleiner G, Marcuzzi A, Zanin V, Monasta L, Zauli G. Cytokine Levels in the Serum of Healthy Subjects. Mediators of Inflammation \\[Internet\\]. 2013;2013:1–6. Available from: <http://www.hindawi.com/journals/mi/2013/434010/></span>\n",
    "\n",
    "<span class=\"csl-left-margin\">4. </span><span class=\"csl-right-inline\">Said EA, Al-Reesi I, Al-Shizawi N, Jaju S, Al-Balushi MS, Koh CY, et al. Defining IL-6 levels in healthy individuals: A meta-analysis. Journal of Medical Virology \\[Internet\\]. 2021;93(6):3915–24. Available from: <https://onlinelibrary.wiley.com/doi/abs/10.1002/jmv.26654></span>\n",
    "\n",
    "<span class=\"csl-left-margin\">5. </span><span class=\"csl-right-inline\">Strand V, Boklage SH, Kimura T, Joly F, Boyapati A, Msihid J. High levels of interleukin-6 in patients with rheumatoid arthritis are associated with greater improvements in health-related quality of life for sarilumab compared with adalimumab. Arthritis Research & Therapy \\[Internet\\]. 2020 Oct 20;22(1):250. Available from: <https://doi.org/10.1186/s13075-020-02344-3></span>\n",
    "\n",
    "<span class=\"csl-left-margin\">6. </span><span class=\"csl-right-inline\">Umare V, Pradhan V, Nadkar M, Rajadhyaksha A, Patwardhan M, Ghosh KK, et al. Effect of Proinflammatory Cytokines (IL-6, TNF-*α*, and IL-1*β*) on Clinical Manifestations in Indian SLE Patients. Mediators of Inflammation \\[Internet\\]. 2014 Dec 7;2014:e385297. Available from: <https://www.hindawi.com/journals/mi/2014/385297/></span>\n",
    "\n",
    "<span class=\"csl-left-margin\">7. </span><span class=\"csl-right-inline\">Franco DM, Arevalo-Rodriguez I, Figuls MRi, Oleas NGM, Nuvials X, Zamora J. Plasma interleukin-6 concentration for the diagnosis of sepsis in critically ill adults. Cochrane Database of Systematic Reviews \\[Internet\\]. 2019;(4). Available from: <https://www.cochranelibrary.com/cdsr/doi/10.1002/14651858.CD011811.pub2/full></span>\n",
    "\n",
    "<span class=\"csl-left-margin\">8. </span><span class=\"csl-right-inline\">Bell CC, Hendriks DFG, Moro SML, Ellis E, Walsh J, Renblom A, et al. [Characterization of primary human hepatocyte spheroids as a model system for drug-induced liver injury, liver function and disease](https://doi.org/10.1038/srep25187). Scientific Reports. 2016 May;6:25187. </span>\n",
    "\n",
    "<span class=\"csl-left-margin\">9. </span><span class=\"csl-right-inline\">Bell CC, Dankers ACA, Lauschke VM, Sison-Young R, Jenkins R, Rowe C, et al. [Comparison of Hepatic 2D Sandwich Cultures and 3D Spheroids for Long-term Toxicity Applications: A Multicenter Study](https://doi.org/10.1093/toxsci/kfx289). Toxicological Sciences: An Official Journal of the Society of Toxicology. 2018 Apr 1;162(2):655–66. </span>\n",
    "\n",
    "<span class=\"csl-left-margin\">10. </span><span class=\"csl-right-inline\">Järvinen E, Hammer HS, Pötz O, Ingelman-Sundberg M, Stage TB. 3D Spheroid Primary Human Hepatocytes for Prediction of Cytochrome P450 and Drug Transporter Induction. Clinical Pharmacology & Therapeutics \\[Internet\\]. 2023;113(6):1284–94. Available from: <https://onlinelibrary.wiley.com/doi/abs/10.1002/cpt.2887></span>\n",
    "\n",
    "<span class=\"csl-left-margin\">11. </span><span class=\"csl-right-inline\">Ingelman-Sundberg M, Lauschke VM. 3D human liver spheroids for translational pharmacology and toxicology. Basic & Clinical Pharmacology & Toxicology \\[Internet\\]. n/a(n/a). Available from: <https://onlinelibrary.wiley.com/doi/abs/10.1111/bcpt.13587></span>"
   ],
   "id": "628a0d8c-b3b0-4fc0-9023-23c699d2a80a"
  }
 ],
 "nbformat": 4,
 "nbformat_minor": 5,
 "metadata": {}
}
